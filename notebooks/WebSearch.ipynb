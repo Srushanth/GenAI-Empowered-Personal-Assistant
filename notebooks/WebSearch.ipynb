{
 "cells": [
  {
   "cell_type": "code",
   "execution_count": null,
   "id": "25136961",
   "metadata": {},
   "outputs": [],
   "source": [
    "from duckduckgo_search import DDGS"
   ]
  },
  {
   "cell_type": "code",
   "execution_count": null,
   "id": "bde4a66d",
   "metadata": {},
   "outputs": [],
   "source": [
    "def web_search(query: str, num_results: int = 5):\n",
    "    \n",
    "    ddgs = DDGS()\n",
    "    return ddgs.text(query, max_results=num_results)"
   ]
  },
  {
   "cell_type": "code",
   "execution_count": null,
   "id": "fc45a1a0",
   "metadata": {},
   "outputs": [],
   "source": [
    "web_search(\"What is the capital of India?\")"
   ]
  },
  {
   "cell_type": "code",
   "execution_count": null,
   "id": "4c6470b9",
   "metadata": {},
   "outputs": [],
   "source": []
  }
 ],
 "metadata": {
  "kernelspec": {
   "display_name": "genai-empowered-personal-assistant",
   "language": "python",
   "name": "python3"
  },
  "language_info": {
   "codemirror_mode": {
    "name": "ipython",
    "version": 3
   },
   "file_extension": ".py",
   "mimetype": "text/x-python",
   "name": "python",
   "nbconvert_exporter": "python",
   "pygments_lexer": "ipython3",
   "version": "3.13.5"
  }
 },
 "nbformat": 4,
 "nbformat_minor": 5
}
