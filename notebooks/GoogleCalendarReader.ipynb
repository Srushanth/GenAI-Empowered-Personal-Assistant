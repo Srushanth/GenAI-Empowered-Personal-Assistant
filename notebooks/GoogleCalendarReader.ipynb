{
 "cells": [
  {
   "cell_type": "code",
   "execution_count": null,
   "id": "12ef4de6",
   "metadata": {},
   "outputs": [],
   "source": [
    "from llama_index.readers.google.calendar.base import GoogleCalendarReader"
   ]
  },
  {
   "cell_type": "code",
   "execution_count": null,
   "id": "45b1a5ab",
   "metadata": {},
   "outputs": [],
   "source": [
    "google_calendar_reader = GoogleCalendarReader()"
   ]
  },
  {
   "cell_type": "code",
   "execution_count": null,
   "id": "9cabfbc2",
   "metadata": {},
   "outputs": [],
   "source": [
    "google_calendar_reader.load_data()"
   ]
  },
  {
   "cell_type": "code",
   "execution_count": null,
   "id": "23e2a3c1",
   "metadata": {},
   "outputs": [],
   "source": []
  }
 ],
 "metadata": {
  "kernelspec": {
   "display_name": "genai-empowered-personal-assistant",
   "language": "python",
   "name": "python3"
  },
  "language_info": {
   "codemirror_mode": {
    "name": "ipython",
    "version": 3
   },
   "file_extension": ".py",
   "mimetype": "text/x-python",
   "name": "python",
   "nbconvert_exporter": "python",
   "pygments_lexer": "ipython3",
   "version": "3.13.5"
  }
 },
 "nbformat": 4,
 "nbformat_minor": 5
}
